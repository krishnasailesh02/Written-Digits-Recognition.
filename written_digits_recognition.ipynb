{
  "nbformat": 4,
  "nbformat_minor": 0,
  "metadata": {
    "colab": {
      "provenance": [],
      "authorship_tag": "ABX9TyPO1uYkR5ZdIIiGudnqj6y9",
      "include_colab_link": true
    },
    "kernelspec": {
      "name": "python3",
      "display_name": "Python 3"
    },
    "language_info": {
      "name": "python"
    }
  },
  "cells": [
    {
      "cell_type": "markdown",
      "metadata": {
        "id": "view-in-github",
        "colab_type": "text"
      },
      "source": [
        "<a href=\"https://colab.research.google.com/github/krishnasailesh02/Written-Digits-Recognition./blob/main/written_digits_recognition.ipynb\" target=\"_parent\"><img src=\"https://colab.research.google.com/assets/colab-badge.svg\" alt=\"Open In Colab\"/></a>"
      ]
    },
    {
      "cell_type": "code",
      "execution_count": null,
      "metadata": {
        "colab": {
          "base_uri": "https://localhost:8080/"
        },
        "id": "27AhlZsL9kq9",
        "outputId": "d108215b-18fd-47b1-e4b6-fd531e50498b"
      },
      "outputs": [
        {
          "output_type": "stream",
          "name": "stdout",
          "text": [
            "[[0]\n",
            " [0]\n",
            " [0]\n",
            " [0]\n",
            " [0]\n",
            " [1]\n",
            " [1]\n",
            " [1]\n",
            " [1]\n",
            " [1]\n",
            " [2]\n",
            " [0]\n",
            " [2]\n",
            " [2]\n",
            " [2]\n",
            " [3]\n",
            " [3]\n",
            " [3]\n",
            " [3]\n",
            " [3]\n",
            " [4]\n",
            " [4]\n",
            " [4]\n",
            " [4]\n",
            " [4]\n",
            " [3]\n",
            " [5]\n",
            " [1]\n",
            " [5]\n",
            " [3]\n",
            " [6]\n",
            " [6]\n",
            " [6]\n",
            " [6]\n",
            " [6]\n",
            " [7]\n",
            " [7]\n",
            " [7]\n",
            " [7]\n",
            " [7]\n",
            " [8]\n",
            " [1]\n",
            " [8]\n",
            " [8]\n",
            " [8]\n",
            " [9]\n",
            " [9]\n",
            " [9]\n",
            " [9]\n",
            " [9]]\n"
          ]
        }
      ],
      "source": [
        "import cv2\n",
        "import numpy as np\n",
        "\n",
        "digits=cv2.imread(\"digits.png\",cv2.IMREAD_GRAYSCALE)\n",
        "test_digits=cv2.imread(\"test_digits.png\",cv2.IMREAD_GRAYSCALE)\n",
        "\n",
        "test_digits=np.vsplit(test_digits,50)\n",
        "\n",
        "#test digits\n",
        "test_cells=[]\n",
        "for d in test_digits:\n",
        "    d=d.flatten()\n",
        "    test_cells.append(d)\n",
        "test_cells=np.array(test_cells,dtype=np.float32)\n",
        "rows=np.vsplit(digits,50)\n",
        "\n",
        "\n",
        "#putiing all the elements in the array(50x50=2500 digits)\n",
        "cells=[]\n",
        "\n",
        "for row in rows:\n",
        "    elem=np.hsplit(row,50)\n",
        "    for i in elem:\n",
        "        i=i.flatten()\n",
        "        cells.append(i)\n",
        "\n",
        "#convert to np array\n",
        "cells=np.array(cells,dtype=np.float32)\n",
        "\n",
        "#made to specify the first 250 are zeros and the next 250 are ones and so on\n",
        "k=np.arange(10)\n",
        "cells_labels=np.repeat(k,250)\n",
        "\n",
        "# loading KNN(K Nearest Neighbour Algo)\n",
        "\n",
        "knn=cv2.ml.KNearest_create()\n",
        "knn.train(cells,cv2.ml.ROW_SAMPLE,cells_labels)\n",
        "\n",
        "ret,result,neighbours,dist=knn.findNearest(test_cells,k=3)\n",
        "\n",
        "#K value is then nbr of nearest neighbours that we need to find\n",
        "# K can be any 'odd' value\n",
        "result = result.astype(int)\n",
        "print(result)\n",
        "\n"
      ]
    },
    {
      "cell_type": "code",
      "source": [],
      "metadata": {
        "id": "So8SK6wP9qu9"
      },
      "execution_count": null,
      "outputs": []
    }
  ]
}